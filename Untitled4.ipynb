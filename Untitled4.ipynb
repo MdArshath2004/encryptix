{
 "cells": [
  {
   "cell_type": "markdown",
   "id": "27fea30e-c949-47f6-b674-2c142b0f45d9",
   "metadata": {},
   "source": [
    "# Tic-Tac-Toe using Minmax algorithm"
   ]
  },
  {
   "cell_type": "code",
   "execution_count": 2,
   "id": "850753d7-1690-4006-aef6-d3259e786401",
   "metadata": {},
   "outputs": [],
   "source": [
    "#import neccessary libraries\n",
    "import math"
   ]
  },
  {
   "cell_type": "code",
   "execution_count": 3,
   "id": "7abc87c5-27f5-401d-916a-4e513923d75b",
   "metadata": {},
   "outputs": [],
   "source": [
    "# Function to print the board\n",
    "def print_board(board):\n",
    "    for row in board:\n",
    "        print(\"|\".join(row))\n",
    "        print(\"-\" * 5)\n",
    "# Function to check for a win\n",
    "def check_win(board, player):\n",
    "    win_conditions = [\n",
    "        [board[0][0], board[0][1], board[0][2]],\n",
    "        [board[1][0], board[1][1], board[1][2]],\n",
    "        [board[2][0], board[2][1], board[2][2]],\n",
    "        [board[0][0], board[1][0], board[2][0]],\n",
    "        [board[0][1], board[1][1], board[2][1]],\n",
    "        [board[0][2], board[1][2], board[2][2]],\n",
    "        [board[0][0], board[1][1], board[2][2]],\n",
    "        [board[2][0], board[1][1], board[0][2]],\n",
    "    ]\n",
    "    return [player, player, player] in win_conditions"
   ]
  },
  {
   "cell_type": "code",
   "execution_count": 4,
   "id": "eaad79db-d8f5-4f6c-bfea-0eab9df4045d",
   "metadata": {},
   "outputs": [],
   "source": [
    "# Function to check for a draw\n",
    "def check_draw(board):\n",
    "    for row in board:\n",
    "        if \" \" in row:\n",
    "            return False\n",
    "    return True"
   ]
  },
  {
   "cell_type": "code",
   "execution_count": 5,
   "id": "5b6baba7-9344-47b8-b7c7-0a052724802e",
   "metadata": {},
   "outputs": [],
   "source": [
    "# Function to get the available moves\n",
    "def get_available_moves(board):\n",
    "    moves = []\n",
    "    for i in range(3):\n",
    "        for j in range(3):\n",
    "            if board[i][j] == \" \":\n",
    "                moves.append((i, j))\n",
    "    return moves"
   ]
  },
  {
   "cell_type": "code",
   "execution_count": 6,
   "id": "c0865be2-04dc-44e3-b171-ef03861bce73",
   "metadata": {},
   "outputs": [],
   "source": [
    "# Minimax algorithm with Alpha-Beta Pruning\n",
    "def minimax(board, depth, alpha, beta, is_maximizing):\n",
    "    if check_win(board, \"X\"):\n",
    "        return -1\n",
    "    if check_win(board, \"O\"):\n",
    "        return 1\n",
    "    if check_draw(board):\n",
    "        return 0\n",
    "\n",
    "    if is_maximizing:\n",
    "        max_eval = -math.inf\n",
    "        for (i, j) in get_available_moves(board):\n",
    "            board[i][j] = \"O\"\n",
    "            eval = minimax(board, depth + 1, alpha, beta, False)\n",
    "            board[i][j] = \" \"\n",
    "            max_eval = max(max_eval, eval)\n",
    "            alpha = max(alpha, eval)\n",
    "            if beta <= alpha:\n",
    "                break\n",
    "        return max_eval\n",
    "    else:\n",
    "        min_eval = math.inf\n",
    "        for (i, j) in get_available_moves(board):\n",
    "            board[i][j] = \"X\"\n",
    "            eval = minimax(board, depth + 1, alpha, beta, True)\n",
    "            board[i][j] = \" \"\n",
    "            min_eval = min(min_eval, eval)\n",
    "            beta = min(beta, eval)\n",
    "            if beta <= alpha:\n",
    "                break\n",
    "        return min_eval"
   ]
  },
  {
   "cell_type": "code",
   "execution_count": 7,
   "id": "4b5d97bd-5e1d-46e8-9c16-3c32f5ff87f7",
   "metadata": {},
   "outputs": [],
   "source": [
    "# Function to get the best move for the AI\n",
    "def get_best_move(board):\n",
    "    best_move = None\n",
    "    best_value = -math.inf\n",
    "    for (i, j) in get_available_moves(board):\n",
    "        board[i][j] = \"O\"\n",
    "        move_value = minimax(board, 0, -math.inf, math.inf, False)\n",
    "        board[i][j] = \" \"\n",
    "        if move_value > best_value:\n",
    "            best_value = move_value\n",
    "            best_move = (i, j)\n",
    "    return best_move"
   ]
  },
  {
   "cell_type": "code",
   "execution_count": 8,
   "id": "8499d02a-8453-4740-a0d2-319deabdb226",
   "metadata": {},
   "outputs": [],
   "source": [
    "# Main game loop\n",
    "def play_game():\n",
    "    board = [[\" \" for _ in range(3)] for _ in range(3)]\n",
    "    human = \"X\"\n",
    "    ai = \"O\"\n",
    "\n",
    "    while True:\n",
    "        print_board(board)\n",
    "\n",
    "        # Human move\n",
    "        move = input(\"Enter your move (row col): \").split()\n",
    "        row, col = int(move[0]), int(move[1])\n",
    "        if board[row][col] != \" \":\n",
    "            print(\"Invalid move, try again.\")\n",
    "            continue\n",
    "        board[row][col] = human\n",
    "\n",
    "        if check_win(board, human):\n",
    "            print_board(board)\n",
    "            print(\"You win!\")\n",
    "            break\n",
    "        if check_draw(board):\n",
    "            print_board(board)\n",
    "            print(\"It's a draw!\")\n",
    "            break\n",
    "\n",
    "        # AI move\n",
    "        ai_move = get_best_move(board)\n",
    "        board[ai_move[0]][ai_move[1]] = ai\n",
    "\n",
    "        if check_win(board, ai):\n",
    "            print_board(board)\n",
    "            print(\"AI wins!\")\n",
    "            break\n",
    "        if check_draw(board):\n",
    "            print_board(board)\n",
    "            print(\"It's a draw!\")\n",
    "            break"
   ]
  },
  {
   "cell_type": "code",
   "execution_count": 9,
   "id": "ab3329e7-b1ad-426e-bb88-733127f58787",
   "metadata": {},
   "outputs": [
    {
     "name": "stdout",
     "output_type": "stream",
     "text": [
      " | | \n",
      "-----\n",
      " | | \n",
      "-----\n",
      " | | \n",
      "-----\n"
     ]
    },
    {
     "name": "stdin",
     "output_type": "stream",
     "text": [
      "Enter your move (row col):  0 1\n"
     ]
    },
    {
     "name": "stdout",
     "output_type": "stream",
     "text": [
      "O|X| \n",
      "-----\n",
      " | | \n",
      "-----\n",
      " | | \n",
      "-----\n"
     ]
    },
    {
     "name": "stdin",
     "output_type": "stream",
     "text": [
      "Enter your move (row col):  0 2\n"
     ]
    },
    {
     "name": "stdout",
     "output_type": "stream",
     "text": [
      "O|X|X\n",
      "-----\n",
      "O| | \n",
      "-----\n",
      " | | \n",
      "-----\n"
     ]
    },
    {
     "name": "stdin",
     "output_type": "stream",
     "text": [
      "Enter your move (row col):  2 0\n"
     ]
    },
    {
     "name": "stdout",
     "output_type": "stream",
     "text": [
      "O|X|X\n",
      "-----\n",
      "O|O| \n",
      "-----\n",
      "X| | \n",
      "-----\n"
     ]
    },
    {
     "name": "stdin",
     "output_type": "stream",
     "text": [
      "Enter your move (row col):  1 2\n"
     ]
    },
    {
     "name": "stdout",
     "output_type": "stream",
     "text": [
      "O|X|X\n",
      "-----\n",
      "O|O|X\n",
      "-----\n",
      "X| |O\n",
      "-----\n",
      "AI wins!\n"
     ]
    }
   ],
   "source": [
    "if __name__ == \"__main__\":\n",
    "    play_game()"
   ]
  },
  {
   "cell_type": "code",
   "execution_count": null,
   "id": "3b05a43a-696a-43f2-b97c-788f2426ad73",
   "metadata": {},
   "outputs": [],
   "source": []
  }
 ],
 "metadata": {
  "kernelspec": {
   "display_name": "Python 3 (ipykernel)",
   "language": "python",
   "name": "python3"
  },
  "language_info": {
   "codemirror_mode": {
    "name": "ipython",
    "version": 3
   },
   "file_extension": ".py",
   "mimetype": "text/x-python",
   "name": "python",
   "nbconvert_exporter": "python",
   "pygments_lexer": "ipython3",
   "version": "3.11.7"
  }
 },
 "nbformat": 4,
 "nbformat_minor": 5
}
