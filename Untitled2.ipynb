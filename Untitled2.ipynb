{
 "cells": [
  {
   "cell_type": "markdown",
   "id": "beba2547-1450-4835-a202-c9073c981088",
   "metadata": {},
   "source": [
    "# Chatbot with rule-based responses"
   ]
  },
  {
   "cell_type": "code",
   "execution_count": 1,
   "id": "2ec97bf8-9894-4918-9c8e-521322aca141",
   "metadata": {},
   "outputs": [],
   "source": [
    "#for dealing with regular expression\n",
    "import re"
   ]
  },
  {
   "cell_type": "code",
   "execution_count": 2,
   "id": "bb377833-9529-49e1-9a85-4d8e4a539d83",
   "metadata": {},
   "outputs": [],
   "source": [
    "#creating class for chatbot \n",
    "class Chatbot:\n",
    "    def __init__(self):\n",
    "        self.context = None\n",
    "        self.patterns_responses = [\n",
    "            (r\"\\b(hello|hi|hey|greetings)\\b\", self.greet),\n",
    "            (r\"\\b(bye|goodbye|see you|farewell)\\b\", self.farewell),\n",
    "            (r\"\\bhow are you\\b\", self.how_are_you),\n",
    "            (r\"\\b(what is your name|who are you)\\b\", self.who_are_you),\n",
    "            (r\"\\bwhat do you do\\b\", self.what_do_you_do),\n",
    "            (r\"\\bwhat is your favorite color\\b\", self.favorite_color),\n",
    "            (r\"\\b(what is the weather like|current weather)\\b\", self.weather),\n",
    "            (r\"\\b(tell me a joke|make me laugh)\\b\", self.tell_joke),\n",
    "            (r\"\\b(thank you|thanks)\\b\", self.thank_you)\n",
    "        ]\n",
    "    #Defining response methods\n",
    "    def greet(self, _):\n",
    "        return \"Hello! How can I assist you today?\"\n",
    "\n",
    "    def farewell(self, _):\n",
    "        return \"Goodbye! Have a wonderful day.\"\n",
    "\n",
    "    def how_are_you(self, _):\n",
    "        return \"I'm just a program, so I don't have feelings, but I'm here to help! What can I do for you?\"\n",
    "\n",
    "    def who_are_you(self, _):\n",
    "        return \"I'm your friendly chatbot. How can I assist you?\"\n",
    "\n",
    "    def what_do_you_do(self, _):\n",
    "        return \"I'm here to chat with you and answer your questions. What would you like to know?\"\n",
    "\n",
    "    def favorite_color(self, _):\n",
    "        return \"As a program, I don't have preferences, but I'm here to talk about yours!\"\n",
    "\n",
    "    def weather(self, _):\n",
    "        return \"I'm unable to provide real-time weather updates, but you can check a weather website or app for the latest information.\"\n",
    "\n",
    "    def tell_joke(self, _):\n",
    "        return \"Why don't scientists trust atoms? Because they make up everything!\"\n",
    "\n",
    "    def thank_you(self, _):\n",
    "        return \"You're welcome! If you have any other questions, feel free to ask.\"\n",
    "        #Converting strings into lowercase to avoid case sensitive problem\n",
    "    def handle_input(self, user_input):\n",
    "        user_input = user_input.lower()\n",
    "\n",
    "    # Checking for matches and provide responses\n",
    "        for pattern, response_method in self.patterns_responses:\n",
    "            if re.search(pattern, user_input):\n",
    "                return response_method(user_input)\n",
    "    # Default response if no patterns match\n",
    "        return \"I'm a simple chatbot. You can greet me, ask me questions, or just chat!\""
   ]
  },
  {
   "cell_type": "code",
   "execution_count": 3,
   "id": "860f3e87-322f-4e9d-97c5-e615e72627b1",
   "metadata": {},
   "outputs": [],
   "source": [
    "# Demo usage\n",
    "def main():\n",
    "    bot = Chatbot()\n",
    "    print(\"Hello, How can I help you?\")\n",
    "    print(\"___________________________________\")\n",
    "    while True:\n",
    "        user_input = input(\"You: \")\n",
    "\n",
    "        if user_input.lower() == 'exit':\n",
    "            print(\"Chatbot: Goodbye!\")\n",
    "            break\n",
    "\n",
    "        # Splitting user input by common delimiters to handle multiple inputs in one line\n",
    "        inputs = re.split(r'[.?!]', user_input)\n",
    "        responses = [bot.handle_input(user_input.strip()) for user_input in inputs if user_input.strip()]\n",
    "        \n",
    "        for response in responses:\n",
    "            print(\"Chatbot:\", response)\n"
   ]
  },
  {
   "cell_type": "code",
   "execution_count": null,
   "id": "7d0a9f82-0c2b-4d53-8b78-db00feba4f7d",
   "metadata": {},
   "outputs": [
    {
     "name": "stdout",
     "output_type": "stream",
     "text": [
      "Hello, How can I help you?\n",
      "___________________________________\n"
     ]
    },
    {
     "name": "stdin",
     "output_type": "stream",
     "text": [
      "You:  hello\n"
     ]
    },
    {
     "name": "stdout",
     "output_type": "stream",
     "text": [
      "Chatbot: Hello! How can I assist you today?\n"
     ]
    },
    {
     "name": "stdin",
     "output_type": "stream",
     "text": [
      "You:  what is your name\n"
     ]
    },
    {
     "name": "stdout",
     "output_type": "stream",
     "text": [
      "Chatbot: I'm your friendly chatbot. How can I assist you?\n"
     ]
    },
    {
     "name": "stdin",
     "output_type": "stream",
     "text": [
      "You:  tell me a joke\n"
     ]
    },
    {
     "name": "stdout",
     "output_type": "stream",
     "text": [
      "Chatbot: Why don't scientists trust atoms? Because they make up everything!\n"
     ]
    },
    {
     "name": "stdin",
     "output_type": "stream",
     "text": [
      "You:  thank you\n"
     ]
    },
    {
     "name": "stdout",
     "output_type": "stream",
     "text": [
      "Chatbot: You're welcome! If you have any other questions, feel free to ask.\n"
     ]
    },
    {
     "name": "stdin",
     "output_type": "stream",
     "text": [
      "You:  good bye\n"
     ]
    },
    {
     "name": "stdout",
     "output_type": "stream",
     "text": [
      "Chatbot: Goodbye! Have a wonderful day.\n"
     ]
    },
    {
     "name": "stdin",
     "output_type": "stream",
     "text": [
      "You:  do you know anything about ai\n"
     ]
    },
    {
     "name": "stdout",
     "output_type": "stream",
     "text": [
      "Chatbot: I'm a simple chatbot. You can greet me, ask me questions, or just chat!\n"
     ]
    }
   ],
   "source": [
    "#Calling the main function to start the chatbot\n",
    "if __name__ == \"__main__\":\n",
    "    main()\n"
   ]
  },
  {
   "cell_type": "code",
   "execution_count": null,
   "id": "93d091b7-8a3d-4578-8a57-c7ff67abb167",
   "metadata": {},
   "outputs": [],
   "source": []
  }
 ],
 "metadata": {
  "kernelspec": {
   "display_name": "Python 3 (ipykernel)",
   "language": "python",
   "name": "python3"
  },
  "language_info": {
   "codemirror_mode": {
    "name": "ipython",
    "version": 3
   },
   "file_extension": ".py",
   "mimetype": "text/x-python",
   "name": "python",
   "nbconvert_exporter": "python",
   "pygments_lexer": "ipython3",
   "version": "3.11.7"
  }
 },
 "nbformat": 4,
 "nbformat_minor": 5
}
